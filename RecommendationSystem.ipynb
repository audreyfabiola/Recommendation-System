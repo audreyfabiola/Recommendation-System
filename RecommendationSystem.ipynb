{
  "nbformat": 4,
  "nbformat_minor": 0,
  "metadata": {
    "colab": {
      "provenance": []
    },
    "kernelspec": {
      "name": "python3",
      "display_name": "Python 3"
    },
    "language_info": {
      "name": "python"
    }
  },
  "cells": [
    {
      "cell_type": "markdown",
      "source": [
        "**User Based Recommender System**\n",
        "\n",
        "Steps in a user-based recommendation system:\n",
        "\n",
        "1. Select a user with the movies the user has watched\n",
        "2. Based on his rating to movies, find the top x neighbours\n",
        "3. Get the watched movie record of the user for each neighbour.\n",
        "4. Calculate a similarity score using some formula\n",
        "5. Recommend the items with the highest score"
      ],
      "metadata": {
        "id": "KXDXwfx-Sgmf"
      }
    },
    {
      "cell_type": "code",
      "execution_count": 6,
      "metadata": {
        "id": "w25MeUzdMDF0"
      },
      "outputs": [],
      "source": [
        "import pandas as pd\n",
        "from math import sqrt\n",
        "import numpy as np"
      ]
    },
    {
      "cell_type": "code",
      "source": [
        "# Read the data from the CSV file\n",
        "cellphones_df = pd.read_csv('cellphones_data.csv')\n",
        "ratings_df = pd.read_csv('cellphones_ratings.csv')\n",
        "\n",
        "print(cellphones_df.info())\n",
        "# Source code: https://www.kaggle.com/code/takkimsncn/cellphones-recommendations/input?"
      ],
      "metadata": {
        "colab": {
          "base_uri": "https://localhost:8080/"
        },
        "id": "Xg-tkkgLMNjR",
        "outputId": "905ab220-fe4c-4f79-ebb3-fe2be27aa89c"
      },
      "execution_count": 7,
      "outputs": [
        {
          "output_type": "stream",
          "name": "stdout",
          "text": [
            "<class 'pandas.core.frame.DataFrame'>\n",
            "RangeIndex: 33 entries, 0 to 32\n",
            "Data columns (total 14 columns):\n",
            " #   Column            Non-Null Count  Dtype  \n",
            "---  ------            --------------  -----  \n",
            " 0   cellphone_id      33 non-null     int64  \n",
            " 1   brand             33 non-null     object \n",
            " 2   model             33 non-null     object \n",
            " 3   operating system  33 non-null     object \n",
            " 4   internal memory   33 non-null     int64  \n",
            " 5   RAM               33 non-null     int64  \n",
            " 6   performance       33 non-null     float64\n",
            " 7   main camera       33 non-null     int64  \n",
            " 8   selfie camera     33 non-null     int64  \n",
            " 9   battery size      33 non-null     int64  \n",
            " 10  screen size       33 non-null     float64\n",
            " 11  weight            33 non-null     int64  \n",
            " 12  price             33 non-null     int64  \n",
            " 13  release date      33 non-null     object \n",
            "dtypes: float64(2), int64(8), object(4)\n",
            "memory usage: 3.7+ KB\n",
            "None\n"
          ]
        }
      ]
    },
    {
      "cell_type": "code",
      "source": [
        "# Creating a list of dictionaries representing user input data for cellphone models and ratings\n",
        "userInput = [{'model':'iPhone XR', 'rating':5},\n",
        "             {'model':'iPhone 13 Mini', 'rating':1},\n",
        "             {'model':'Galaxy A53', 'rating':1},\n",
        "             {'model':'Galaxy A32', 'rating':5},\n",
        "             {'model':'iPhone 13 Pro', 'rating':4.5}]\n",
        "\n",
        "inputCellphones = pd.DataFrame(userInput)\n",
        "print(inputCellphones)"
      ],
      "metadata": {
        "colab": {
          "base_uri": "https://localhost:8080/"
        },
        "id": "swVtPE8SMOa_",
        "outputId": "05b564f2-a5d3-4e4a-e74a-5f07d8adc989"
      },
      "execution_count": 8,
      "outputs": [
        {
          "output_type": "stream",
          "name": "stdout",
          "text": [
            "            model  rating\n",
            "0       iPhone XR     5.0\n",
            "1  iPhone 13 Mini     1.0\n",
            "2      Galaxy A53     1.0\n",
            "3      Galaxy A32     5.0\n",
            "4   iPhone 13 Pro     4.5\n"
          ]
        }
      ]
    },
    {
      "cell_type": "code",
      "source": [
        "# Filtering the original cellphones DataFrame to get only the rows corresponding to the models in the user input\n",
        "inputId = cellphones_df[cellphones_df['model'].isin(inputCellphones['model'].tolist())]\n",
        "\n",
        "# Merging the filtered cellphones DataFrame with the user input DataFrame based on the 'model' column\n",
        "inputCellphones = pd.merge(inputId, inputCellphones)\n",
        "\n",
        "# Selecting specific columns ('cellphone_id', 'model', 'rating') from the merged DataFrame\n",
        "inputCellphones = inputCellphones[['cellphone_id','model','rating']]\n",
        "\n",
        "print(inputCellphones)"
      ],
      "metadata": {
        "colab": {
          "base_uri": "https://localhost:8080/"
        },
        "id": "vCuDvkPJM_CX",
        "outputId": "3be3f6be-1fd3-4ee3-c269-5c96f687e0e0"
      },
      "execution_count": 9,
      "outputs": [
        {
          "output_type": "stream",
          "name": "stdout",
          "text": [
            "   cellphone_id           model  rating\n",
            "0             1  iPhone 13 Mini     1.0\n",
            "1             3   iPhone 13 Pro     4.5\n",
            "2             5       iPhone XR     5.0\n",
            "3             8      Galaxy A32     5.0\n",
            "4             9      Galaxy A53     1.0\n"
          ]
        }
      ]
    },
    {
      "cell_type": "code",
      "source": [
        "# Filtering the ratings DataFrame to get only the rows corresponding to the cellphone IDs in the user input\n",
        "userSubset = ratings_df[ratings_df['cellphone_id'].isin(inputCellphones['cellphone_id'].tolist())]\n",
        "\n",
        "print(userSubset.groupby('cellphone_id').count())"
      ],
      "metadata": {
        "colab": {
          "base_uri": "https://localhost:8080/"
        },
        "id": "DSlg4Bv_MYUj",
        "outputId": "e3802e7b-bcd7-4269-d3a0-4a85171b4da1"
      },
      "execution_count": 10,
      "outputs": [
        {
          "output_type": "stream",
          "name": "stdout",
          "text": [
            "              user_id  rating\n",
            "cellphone_id                 \n",
            "1                  24      24\n",
            "3                  29      29\n",
            "5                  31      31\n",
            "8                  39      39\n",
            "9                  29      29\n"
          ]
        }
      ]
    },
    {
      "cell_type": "code",
      "source": [
        "# Grouping the filtered ratings DataFrame by 'user_id'\n",
        "userSubsetGroup = userSubset.groupby(['user_id'])\n",
        "\n",
        "# Defining a function 'take_5_elem' that takes a group of data and returns the number of elements in that group\n",
        "def take_5_elem(x):\n",
        "    return len(x[1])\n",
        "\n",
        "# Sorting the groups based on the number of elements in each group in descending order\n",
        "userSubsetGroup = sorted(userSubsetGroup, key=take_5_elem, reverse=True)\n",
        "\n",
        "# Taking the top 100 groups (users) based on the number of elements (ratings) in each group\n",
        "userSubsetGroup = userSubsetGroup[0:100]\n",
        "\n",
        "print(userSubsetGroup[0:5])"
      ],
      "metadata": {
        "colab": {
          "base_uri": "https://localhost:8080/"
        },
        "id": "W58FN3b2NQpS",
        "outputId": "442b7020-df07-4310-a3dd-f6227781b203"
      },
      "execution_count": 11,
      "outputs": [
        {
          "output_type": "stream",
          "name": "stdout",
          "text": [
            "[(0,    user_id  cellphone_id  rating\n",
            "1        0             5       3\n",
            "3        0             9       3\n",
            "5        0             8       2\n",
            "9        0             3      10), (110,      user_id  cellphone_id  rating\n",
            "370      110             8       2\n",
            "375      110             5       2\n",
            "376      110             3       3\n",
            "378      110             9       7), (169,      user_id  cellphone_id  rating\n",
            "641      169             1       5\n",
            "642      169             5       7\n",
            "644      169             3      10\n",
            "648      169             9       8), (194,      user_id  cellphone_id  rating\n",
            "671      194             8       8\n",
            "672      194             1       9\n",
            "676      194             9       3\n",
            "678      194             3       6), (28,      user_id  cellphone_id  rating\n",
            "112       28             5      10\n",
            "113       28             8       1\n",
            "118       28             3      10)]\n"
          ]
        },
        {
          "output_type": "stream",
          "name": "stderr",
          "text": [
            "<ipython-input-11-a31722c00785>:9: FutureWarning: In a future version of pandas, a length 1 tuple will be returned when iterating over a groupby with a grouper equal to a list of length 1. Don't supply a list with a single grouper to avoid this warning.\n",
            "  userSubsetGroup = sorted(userSubsetGroup, key=take_5_elem, reverse=True)\n"
          ]
        }
      ]
    },
    {
      "cell_type": "code",
      "source": [
        "# Dictionary to store Pearson Correlation, where key is user id and value is the coefficient\n",
        "pearsonCorrelationDict = {}\n",
        "\n",
        "# For each user group in the subset\n",
        "for name, group in userSubsetGroup:\n",
        "\n",
        "    # Sort input and current user group for aligned values\n",
        "    group = group.sort_values(by='cellphone_id')\n",
        "    inputCellphones = inputCellphones.sort_values(by='cellphone_id')\n",
        "\n",
        "    # Calculate N for the formula\n",
        "    nRatings = len(group)\n",
        "\n",
        "    # Get review scores for common cellphones\n",
        "    temp_df = inputCellphones[inputCellphones['cellphone_id'].isin(group['cellphone_id'].tolist())]\n",
        "\n",
        "    # Store review scores in lists for future calculations\n",
        "    tempRatingList = temp_df['rating'].tolist()\n",
        "\n",
        "    #Let's also put the current user group reviews in a list format\n",
        "    tempGroupList = group['rating'].tolist()\n",
        "\n",
        "    # Calculate Pearson correlation manually\n",
        "    Sxx = sum([i**2 for i in tempRatingList]) - pow(sum(tempRatingList),2)/float(nRatings)\n",
        "    Syy = sum([i**2 for i in tempGroupList]) - pow(sum(tempGroupList),2)/float(nRatings)\n",
        "    Sxy = sum( i*j for i, j in zip(tempRatingList, tempGroupList)) - sum(tempRatingList)*sum(tempGroupList)/float(nRatings)\n",
        "\n",
        "    # If denominator is not zero, then calculate correlation, else, assign 0 correlation\n",
        "    if Sxx != 0 and Syy != 0:\n",
        "        pearsonCorrelationDict[name] = Sxy/sqrt(Sxx*Syy)\n",
        "    else:\n",
        "        pearsonCorrelationDict[name] = 0"
      ],
      "metadata": {
        "id": "JCF4ubDPNUob"
      },
      "execution_count": 12,
      "outputs": []
    },
    {
      "cell_type": "code",
      "source": [
        "pearsonDF = pd.DataFrame.from_dict(pearsonCorrelationDict, orient='index')\n",
        "\n",
        "# Rename the column to 'similarityIndex' for clarity\n",
        "pearsonDF.columns = ['similarityIndex']\n",
        "\n",
        "# Add 'user_id' column and set its values to be the user ids from the index\n",
        "pearsonDF['user_id'] = pearsonDF.index\n",
        "\n",
        "# Reset the index for sequential numbering and display the first few rows of the\n",
        "pearsonDF.index = range(len(pearsonDF))\n",
        "print(pearsonDF.head())"
      ],
      "metadata": {
        "colab": {
          "base_uri": "https://localhost:8080/"
        },
        "id": "LeuppAmJNeaI",
        "outputId": "82abf063-d6f3-4c58-d28f-3f00663f022a"
      },
      "execution_count": 13,
      "outputs": [
        {
          "output_type": "stream",
          "name": "stdout",
          "text": [
            "   similarityIndex  user_id\n",
            "0         0.151749        0\n",
            "1        -0.997038      110\n",
            "2         0.497026      169\n",
            "3         0.246222      194\n",
            "4        -0.500000       28\n"
          ]
        }
      ]
    },
    {
      "cell_type": "code",
      "source": [
        "# Select the top 50 users based on Pearson correlation similarity index\n",
        "topUsers=pearsonDF.sort_values(by='similarityIndex', ascending=False)[0:50]\n",
        "print(topUsers.head())"
      ],
      "metadata": {
        "colab": {
          "base_uri": "https://localhost:8080/"
        },
        "id": "6NB4MGOeNiZe",
        "outputId": "dab4afb2-6cf7-4f8f-d1ed-d24f884d179b"
      },
      "execution_count": 14,
      "outputs": [
        {
          "output_type": "stream",
          "name": "stdout",
          "text": [
            "    similarityIndex  user_id\n",
            "23              1.0       38\n",
            "19              1.0        6\n",
            "37              1.0      203\n",
            "32              1.0      126\n",
            "29              1.0      113\n"
          ]
        }
      ]
    },
    {
      "cell_type": "code",
      "source": [
        "# Merge the topUsers DataFrame with the ratings DataFrame based on 'user_id' using inner join\n",
        "topUsersRating=topUsers.merge(ratings_df, left_on='user_id', right_on='user_id', how='inner')\n",
        "print(topUsersRating.head(100))"
      ],
      "metadata": {
        "colab": {
          "base_uri": "https://localhost:8080/"
        },
        "id": "2f3b2xP6Nl2S",
        "outputId": "4ca05d25-b9c0-4bfe-8dee-ad8dfcc729d4"
      },
      "execution_count": 15,
      "outputs": [
        {
          "output_type": "stream",
          "name": "stdout",
          "text": [
            "    similarityIndex  user_id  cellphone_id  rating\n",
            "0               1.0       38             1       7\n",
            "1               1.0       38            30       4\n",
            "2               1.0       38             5       8\n",
            "3               1.0       38            24       7\n",
            "4               1.0       38            10       7\n",
            "..              ...      ...           ...     ...\n",
            "95              0.5      162            32       7\n",
            "96              0.5      162            10       6\n",
            "97              0.5      162             5       8\n",
            "98              0.5      162             0       7\n",
            "99              0.5      162             3       8\n",
            "\n",
            "[100 rows x 4 columns]\n"
          ]
        }
      ]
    },
    {
      "cell_type": "code",
      "source": [
        "# Calculate weighted ratings by multiplying user similarity index with their ratings\n",
        "topUsersRating['weightedRating'] = topUsersRating['similarityIndex']*topUsersRating['rating']\n",
        "print(topUsersRating.head())"
      ],
      "metadata": {
        "colab": {
          "base_uri": "https://localhost:8080/"
        },
        "id": "OuBXQse_No8p",
        "outputId": "003dfa55-301e-4926-bdcc-b79ca4bfa4e8"
      },
      "execution_count": 16,
      "outputs": [
        {
          "output_type": "stream",
          "name": "stdout",
          "text": [
            "   similarityIndex  user_id  cellphone_id  rating  weightedRating\n",
            "0              1.0       38             1       7             7.0\n",
            "1              1.0       38            30       4             4.0\n",
            "2              1.0       38             5       8             8.0\n",
            "3              1.0       38            24       7             7.0\n",
            "4              1.0       38            10       7             7.0\n"
          ]
        }
      ]
    },
    {
      "cell_type": "code",
      "source": [
        "# Group and sum the topUsersRating DataFrame by cellphone_id to calculate total similarity and weighted ratings\n",
        "tempTopUsersRating = topUsersRating.groupby('cellphone_id').sum()[['similarityIndex','weightedRating']]\n",
        "\n",
        "# Rename the columns\n",
        "tempTopUsersRating.columns = ['sum_similarityIndex','sum_weightedRating']\n",
        "print(tempTopUsersRating.head())"
      ],
      "metadata": {
        "colab": {
          "base_uri": "https://localhost:8080/"
        },
        "id": "fhBcG1AtNsmA",
        "outputId": "c97d214a-b4ca-4ffc-9abe-833a6921cce5"
      },
      "execution_count": 17,
      "outputs": [
        {
          "output_type": "stream",
          "name": "stdout",
          "text": [
            "              sum_similarityIndex  sum_weightedRating\n",
            "cellphone_id                                         \n",
            "0                        2.500000           21.500000\n",
            "1                        9.213973           53.996203\n",
            "2                        2.997026           26.970261\n",
            "3                        3.394996           25.965078\n",
            "4                        3.500000           30.000000\n"
          ]
        }
      ]
    },
    {
      "cell_type": "code",
      "source": [
        "# Create an empty DataFrame for recommendations\n",
        "recommendation_df = pd.DataFrame()\n",
        "\n",
        "# Calculate weighted average recommendation scores by dividing sum_weightedRating by sum_similarityIndex\n",
        "recommendation_df['weighted average recommendation score'] = tempTopUsersRating['sum_weightedRating']/tempTopUsersRating['sum_similarityIndex']\n",
        "\n",
        "# Set 'cellphone_id' column using the index values of tempTopUsersRating\n",
        "recommendation_df['cellphone_id'] = tempTopUsersRating.index\n",
        "\n",
        "print(recommendation_df.head(10))"
      ],
      "metadata": {
        "colab": {
          "base_uri": "https://localhost:8080/"
        },
        "id": "z4ilJkmuN0pj",
        "outputId": "8977581c-9ff8-4590-b9ee-eb248076c671"
      },
      "execution_count": 18,
      "outputs": [
        {
          "output_type": "stream",
          "name": "stdout",
          "text": [
            "              weighted average recommendation score  cellphone_id\n",
            "cellphone_id                                                     \n",
            "0                                          8.600000             0\n",
            "1                                          5.860252             1\n",
            "2                                          8.999008             2\n",
            "3                                          7.648043             3\n",
            "4                                          8.571429             4\n",
            "5                                          8.574325             5\n",
            "6                                          3.666667             6\n",
            "7                                          8.575049             7\n",
            "8                                          8.083370             8\n",
            "9                                          6.465667             9\n"
          ]
        }
      ]
    },
    {
      "cell_type": "code",
      "source": [
        "# Sort recommendation_df based on 'weighted average recommendation score' in descending order\n",
        "recommendation_df = recommendation_df.sort_values(by='weighted average recommendation score', ascending=False)\n",
        "\n",
        "# Filter for recommendations with a score greater than 4.9\n",
        "recommendation_df_sorted = recommendation_df[recommendation_df['weighted average recommendation score'] > 4.9]\n",
        "\n",
        "print(recommendation_df_sorted)"
      ],
      "metadata": {
        "colab": {
          "base_uri": "https://localhost:8080/"
        },
        "id": "OEQ1KD5JN4RI",
        "outputId": "c8114e7f-5f5b-4f52-8a5f-564d7782a656"
      },
      "execution_count": 19,
      "outputs": [
        {
          "output_type": "stream",
          "name": "stdout",
          "text": [
            "              weighted average recommendation score  cellphone_id\n",
            "cellphone_id                                                     \n",
            "2                                          8.999008             2\n",
            "12                                         8.856171            12\n",
            "0                                          8.600000             0\n",
            "7                                          8.575049             7\n",
            "5                                          8.574325             5\n",
            "4                                          8.571429             4\n",
            "8                                          8.083370             8\n",
            "26                                         7.857021            26\n",
            "20                                         7.663382            20\n",
            "3                                          7.648043             3\n",
            "24                                         7.600000            24\n",
            "28                                         7.333333            28\n",
            "10                                         7.296386            10\n",
            "32                                         7.000000            32\n",
            "22                                         6.722986            22\n",
            "31                                         6.606670            31\n",
            "9                                          6.465667             9\n",
            "17                                         6.381042            17\n",
            "25                                         6.257161            25\n",
            "14                                         6.142857            14\n",
            "18                                         6.012127            18\n",
            "1                                          5.860252             1\n",
            "16                                         5.807410            16\n",
            "30                                         5.794406            30\n",
            "29                                         5.623964            29\n",
            "15                                         5.571429            15\n",
            "23                                         5.393987            23\n",
            "21                                         5.098743            21\n"
          ]
        }
      ]
    },
    {
      "cell_type": "code",
      "source": [
        "# Filter cellphones_df to include only those with cellphone_id in recommendation_df_sorted\n",
        "recommended_cellphone = cellphones_df.loc[cellphones_df['cellphone_id'].isin(recommendation_df_sorted['cellphone_id'])]\n",
        "\n",
        "# Exclude cellphones that the user has already rated from the recommendations\n",
        "recommended_cellphone = recommended_cellphone.loc[~recommended_cellphone.cellphone_id.isin(userSubset['cellphone_id'])]\n",
        "\n",
        "# Display the top 5 recommended cellphones\n",
        "print(recommended_cellphone.head(5))"
      ],
      "metadata": {
        "colab": {
          "base_uri": "https://localhost:8080/"
        },
        "id": "7ekgsZn3N5_R",
        "outputId": "2138c2ec-8ceb-4382-9999-7f6d175aa480"
      },
      "execution_count": 24,
      "outputs": [
        {
          "output_type": "stream",
          "name": "stdout",
          "text": [
            "    cellphone_id    brand              model operating system  \\\n",
            "0              0    Apple   iPhone SE (2022)              iOS   \n",
            "2              2    Apple          iPhone 13              iOS   \n",
            "4              4    Apple  iPhone 13 Pro Max              iOS   \n",
            "7              7  Samsung         Galaxy A13          Android   \n",
            "10            10  Samsung         Galaxy S22          Android   \n",
            "\n",
            "    internal memory  RAM  performance  main camera  selfie camera  \\\n",
            "0               128    4         7.23           12              7   \n",
            "2               128    4         7.75           12             12   \n",
            "4               256    6         8.01           12             12   \n",
            "7                32    3         1.36           50              8   \n",
            "10              128    8         8.81           50             10   \n",
            "\n",
            "    battery size  screen size  weight  price release date  \n",
            "0           2018          4.7     144    429   18/03/2022  \n",
            "2           3240          6.1     174    699   24/09/2021  \n",
            "4           4352          6.7     240   1199   24/09/2021  \n",
            "7           5000          6.6     196    154   23/03/2022  \n",
            "10          3700          6.1     167    528   25/02/2022  \n"
          ]
        }
      ]
    }
  ]
}